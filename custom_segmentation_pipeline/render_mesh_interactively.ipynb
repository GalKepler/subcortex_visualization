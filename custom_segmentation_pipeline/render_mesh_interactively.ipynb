{
 "cells": [
  {
   "cell_type": "markdown",
   "metadata": {},
   "source": [
    "## Render generated `.obj` mesh files as one interactive 3D image"
   ]
  },
  {
   "cell_type": "code",
   "execution_count": 1,
   "metadata": {},
   "outputs": [],
   "source": [
    "# Import necessary libraries\n",
    "import nibabel as nib\n",
    "import numpy as np\n",
    "from skimage import measure\n",
    "import pyvista as pv\n",
    "from matplotlib import cm\n",
    "import matplotlib.colors as mcolors\n",
    "from scipy.ndimage import gaussian_filter\n",
    "import os\n",
    "from glob import glob"
   ]
  },
  {
   "cell_type": "markdown",
   "metadata": {},
   "source": [
    "We'll read in the meshes created by the `nii2mesh` program and combine them into one figure.\n",
    "\n",
    "Note: this code will exclusively render the left hemisphere; if you want to keep both, uncomment line 8 instead of line 7."
   ]
  },
  {
   "cell_type": "code",
   "execution_count": 2,
   "metadata": {},
   "outputs": [
    {
     "name": "stderr",
     "output_type": "stream",
     "text": [
      "/var/folders/rn/z0683sns3tz7b_k0cbf8ft8w0000gq/T/ipykernel_47860/4136073642.py:18: MatplotlibDeprecationWarning: The get_cmap function was deprecated in Matplotlib 3.7 and will be removed in 3.11. Use ``matplotlib.colormaps[name]`` or ``matplotlib.colormaps.get_cmap()`` or ``pyplot.get_cmap()`` instead.\n",
      "  cmap = cm.get_cmap('plasma', num_regions)\n"
     ]
    },
    {
     "data": {
      "application/vnd.jupyter.widget-view+json": {
       "model_id": "0d3d58be0b454b86a8d92688201cafe4",
       "version_major": 2,
       "version_minor": 0
      },
      "text/plain": [
       "Widget(value='<iframe src=\"http://localhost:54227/index.html?ui=P_0x12d1c70d0_0&reconnect=auto\" class=\"pyvista…"
      ]
     },
     "metadata": {},
     "output_type": "display_data"
    },
    {
     "name": "stdout",
     "output_type": "stream",
     "text": [
      " JS Error => error: Uncaught TypeError: Cannot mix BigInt and other types, use explicit conversions\n"
     ]
    }
   ],
   "source": [
    "# Path to the folder containing the .obj files\n",
    "obj_folder = \"example_segmentation\"\n",
    "\n",
    "# Find the .obj files in obj_folder\n",
    "obj_files = glob(os.path.join(obj_folder, \"*.obj\"))\n",
    "\n",
    "num_regions = int(len(obj_files)/2)  # Left hemisphere only\n",
    "# num_regions = int(len(obj_files)) # Uncomment this line to include both hemispheres\n",
    "\n",
    "# Define the file base for the .obj files\n",
    "file_base = f\"{obj_folder}/Tian_Subcortex_S1_3T_1mm\"\n",
    "\n",
    "# List to store meshes\n",
    "meshes = []\n",
    "\n",
    "# Generate num_regions colors from the 'plasma' colormap\n",
    "# You can swap 'plasma' with any other colormap available in matplotlib\n",
    "cmap = cm.get_cmap('plasma', num_regions)\n",
    "\n",
    "# Iterate over each .obj file and add it to the meshes list\n",
    "for i in range(1, num_regions+1):\n",
    "    file_path = f\"{file_base}{i}.obj\"\n",
    "\n",
    "    # Read the .obj file into a mesh\n",
    "    mesh = pv.read(file_path)\n",
    "\n",
    "     # Assign color to each point\n",
    "    mesh.point_data['colors'] = np.full(mesh.n_points, i)  # Store a scalar for each point\n",
    "    \n",
    "    meshes.append(mesh)\n",
    "\n",
    "# Combine all meshes into a single one\n",
    "combined_mesh = meshes[0]\n",
    "for mesh in meshes[1:]:\n",
    "    combined_mesh += mesh\n",
    "\n",
    "# Visualize the combined mesh\n",
    "plotter = pv.Plotter()\n",
    "# Add the mesh with custom colors (map the region index to region_colors)\n",
    "plotter.add_mesh(combined_mesh, scalars=\"colors\", cmap=cmap, show_edges=False)\n",
    "\n",
    "plotter.show()"
   ]
  }
 ],
 "metadata": {
  "kernelspec": {
   "display_name": "annie_env",
   "language": "python",
   "name": "python3"
  },
  "language_info": {
   "codemirror_mode": {
    "name": "ipython",
    "version": 3
   },
   "file_extension": ".py",
   "mimetype": "text/x-python",
   "name": "python",
   "nbconvert_exporter": "python",
   "pygments_lexer": "ipython3",
   "version": "3.9.21"
  }
 },
 "nbformat": 4,
 "nbformat_minor": 2
}
