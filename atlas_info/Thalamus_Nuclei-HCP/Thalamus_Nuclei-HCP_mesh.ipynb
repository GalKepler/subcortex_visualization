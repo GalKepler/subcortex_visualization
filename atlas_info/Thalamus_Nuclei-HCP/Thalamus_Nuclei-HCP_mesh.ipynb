{
 "cells": [
  {
   "cell_type": "markdown",
   "metadata": {},
   "source": [
    "## Render generated `.obj` mesh files as one interactive 3D image"
   ]
  },
  {
   "cell_type": "code",
   "execution_count": 1,
   "metadata": {},
   "outputs": [],
   "source": [
    "# Import necessary libraries\n",
    "import nibabel as nib\n",
    "import numpy as np\n",
    "from skimage import measure\n",
    "import pyvista as pv\n",
    "from matplotlib import cm\n",
    "import matplotlib.colors as mcolors\n",
    "from matplotlib.colors import ListedColormap\n",
    "from scipy.ndimage import gaussian_filter\n",
    "import os\n",
    "from glob import glob"
   ]
  },
  {
   "cell_type": "code",
   "execution_count": 3,
   "metadata": {},
   "outputs": [
    {
     "name": "stdout",
     "output_type": "stream",
     "text": [
      "Filtered left hemisphere saved as Thalamus_Nuclei_HCP_L.nii.gz\n",
      "Filtered right hemisphere saved as Thalamus_Nuclei_HCP_R.nii.gz\n"
     ]
    }
   ],
   "source": [
    "# Filter subcortex\n",
    "subcortex_file = 'Thalamus_Nuclei-HCP-MaxProb.nii.gz'\n",
    "subcortex_file_L = 'Thalamus_Nuclei_HCP_L.nii.gz'\n",
    "subcortex_file_R = 'Thalamus_Nuclei_HCP_R.nii.gz'\n",
    "\n",
    "if not os.path.isfile(subcortex_file_L):\n",
    "\n",
    "    # Load the NIfTI file\n",
    "    img = nib.load(subcortex_file)\n",
    "    data = img.get_fdata()\n",
    "\n",
    "    # For left hemisphere, take odd numbers between 345 and 384 inclusive\n",
    "    left_mask = (data <= 7)\n",
    "    # For right hemisphere, take even numbers between 345 and 384 inclusive\n",
    "    right_mask = (data >= 8)\n",
    "\n",
    "    # Set values outside the range to 0, keep values inside unchanged\n",
    "    filtered_data_L = np.where(left_mask, data, 0)\n",
    "    filtered_data_R = np.where(right_mask, data, 0)\n",
    "\n",
    "    # Save the filtered data as a new NIfTI file\n",
    "    filtered_img_L = nib.Nifti1Image(filtered_data_L, img.affine, img.header)\n",
    "    filtered_img_R = nib.Nifti1Image(filtered_data_R, img.affine, img.header)\n",
    "\n",
    "    nib.save(filtered_img_L, subcortex_file_L)\n",
    "    print(f\"Filtered left hemisphere saved as {subcortex_file_L}\")\n",
    "\n",
    "    nib.save(filtered_img_R, subcortex_file_R)\n",
    "    print(f\"Filtered right hemisphere saved as {subcortex_file_R}\")\n"
   ]
  }
 ],
 "metadata": {
  "kernelspec": {
   "display_name": "annie_env",
   "language": "python",
   "name": "python3"
  },
  "language_info": {
   "codemirror_mode": {
    "name": "ipython",
    "version": 3
   },
   "file_extension": ".py",
   "mimetype": "text/x-python",
   "name": "python",
   "nbconvert_exporter": "python",
   "pygments_lexer": "ipython3",
   "version": "3.9.21"
  }
 },
 "nbformat": 4,
 "nbformat_minor": 2
}
